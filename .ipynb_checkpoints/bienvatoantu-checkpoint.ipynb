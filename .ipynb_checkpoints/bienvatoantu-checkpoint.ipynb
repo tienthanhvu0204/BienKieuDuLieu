{
 "cells": [
  {
   "cell_type": "code",
   "execution_count": 15,
   "id": "8f738603",
   "metadata": {},
   "outputs": [
    {
     "name": "stdout",
     "output_type": "stream",
     "text": [
      "Vũ Tiến Thành\n",
      "32\n",
      "Vũ Tiến Thành 32\n"
     ]
    }
   ],
   "source": [
    "myname = \"Vũ Tiến Thành\"\n",
    "my_age = 32\n",
    "print (myname)\n",
    "print (my_age)\n",
    "print(myname + \" \" + str(my_age))"
   ]
  },
  {
   "cell_type": "code",
   "execution_count": 16,
   "id": "685ca41b",
   "metadata": {},
   "outputs": [
    {
     "name": "stdout",
     "output_type": "stream",
     "text": [
      "10\n"
     ]
    }
   ],
   "source": [
    "print(my_age//3)"
   ]
  },
  {
   "cell_type": "code",
   "execution_count": 23,
   "id": "9ae4ced3",
   "metadata": {},
   "outputs": [
    {
     "name": "stdout",
     "output_type": "stream",
     "text": [
      "5\n",
      "2\n"
     ]
    }
   ],
   "source": [
    "a = 2\n",
    "b = 5\n",
    "c = a\n",
    "a = b\n",
    "b = c\n",
    "print (a)\n",
    "print (b)"
   ]
  },
  {
   "cell_type": "code",
   "execution_count": 24,
   "id": "72918d89",
   "metadata": {},
   "outputs": [
    {
     "name": "stdout",
     "output_type": "stream",
     "text": [
      "10\n"
     ]
    }
   ],
   "source": [
    "chieudai = 5\n",
    "chieurong = 2\n",
    "dientich = chieudai * chieurong\n",
    "print (dientich)"
   ]
  },
  {
   "cell_type": "code",
   "execution_count": 42,
   "id": "b9ac3f91",
   "metadata": {},
   "outputs": [
    {
     "name": "stdout",
     "output_type": "stream",
     "text": [
      "số tuổi là: 32\n"
     ]
    }
   ],
   "source": [
    "from datetime import date\n",
    "today = date.today()\n",
    "year_of_birth = 1990\n",
    "print(\"số tuổi là: \" + str(today.year - year_of_birth))\n",
    "\n"
   ]
  },
  {
   "cell_type": "code",
   "execution_count": null,
   "id": "060aba38",
   "metadata": {},
   "outputs": [],
   "source": []
  }
 ],
 "metadata": {
  "kernelspec": {
   "display_name": "Python 3 (ipykernel)",
   "language": "python",
   "name": "python3"
  },
  "language_info": {
   "codemirror_mode": {
    "name": "ipython",
    "version": 3
   },
   "file_extension": ".py",
   "mimetype": "text/x-python",
   "name": "python",
   "nbconvert_exporter": "python",
   "pygments_lexer": "ipython3",
   "version": "3.9.7"
  }
 },
 "nbformat": 4,
 "nbformat_minor": 5
}
