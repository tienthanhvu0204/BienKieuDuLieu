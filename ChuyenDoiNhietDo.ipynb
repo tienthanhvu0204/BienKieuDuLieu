{
 "cells": [
  {
   "cell_type": "code",
   "execution_count": 4,
   "id": "155af0f8",
   "metadata": {},
   "outputs": [
    {
     "name": "stdout",
     "output_type": "stream",
     "text": [
      "Nhập giá trị độ C: 68\n",
      "Giá trị độ F là: 154.4\n"
     ]
    }
   ],
   "source": [
    "c = input (\"Nhập giá trị độ C: \")\n",
    "f = (9*int(c)/5) + 32\n",
    "print (\"Giá trị độ F là: \" + str (f))"
   ]
  },
  {
   "cell_type": "code",
   "execution_count": 3,
   "id": "eb80c90c",
   "metadata": {},
   "outputs": [
    {
     "name": "stdout",
     "output_type": "stream",
     "text": [
      "Nhập giá trị độ C: 32\n",
      "Giá trị độ F là:  89.6\n"
     ]
    }
   ],
   "source": [
    "c = input (\"Nhập giá trị độ C: \")\n",
    "f = (9*int(c)/5) + 32\n",
    "print (\"Giá trị độ F là: \", f)"
   ]
  }
 ],
 "metadata": {
  "kernelspec": {
   "display_name": "Python 3 (ipykernel)",
   "language": "python",
   "name": "python3"
  },
  "language_info": {
   "codemirror_mode": {
    "name": "ipython",
    "version": 3
   },
   "file_extension": ".py",
   "mimetype": "text/x-python",
   "name": "python",
   "nbconvert_exporter": "python",
   "pygments_lexer": "ipython3",
   "version": "3.9.7"
  }
 },
 "nbformat": 4,
 "nbformat_minor": 5
}
